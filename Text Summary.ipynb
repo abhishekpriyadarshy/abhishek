{
 "cells": [
  {
   "cell_type": "code",
   "execution_count": 4,
   "id": "e41285ca",
   "metadata": {},
   "outputs": [
    {
     "name": "stderr",
     "output_type": "stream",
     "text": [
      "No model was supplied, defaulted to sshleifer/distilbart-cnn-12-6 and revision a4f8f3e (https://huggingface.co/sshleifer/distilbart-cnn-12-6).\n",
      "Using a pipeline without specifying a model name and revision in production is not recommended.\n"
     ]
    },
    {
     "data": {
      "application/vnd.jupyter.widget-view+json": {
       "model_id": "8fa0674de8dd4ea1ac51d055b6b8d313",
       "version_major": 2,
       "version_minor": 0
      },
      "text/plain": [
       "Downloading:   0%|          | 0.00/1.80k [00:00<?, ?B/s]"
      ]
     },
     "metadata": {},
     "output_type": "display_data"
    },
    {
     "name": "stderr",
     "output_type": "stream",
     "text": [
      "C:\\Users\\abhis\\anaconda3\\lib\\site-packages\\huggingface_hub\\file_download.py:123: UserWarning: `huggingface_hub` cache-system uses symlinks by default to efficiently store duplicated files but your machine does not support them in C:\\Users\\abhis\\.cache\\huggingface\\hub. Caching files will still work but in a degraded version that might require more space on your disk. This warning can be disabled by setting the `HF_HUB_DISABLE_SYMLINKS_WARNING` environment variable. For more details, see https://huggingface.co/docs/huggingface_hub/how-to-cache#limitations.\n",
      "To support symlinks on Windows, you either need to activate Developer Mode or to run Python as an administrator. In order to see activate developer mode, see this article: https://docs.microsoft.com/en-us/windows/apps/get-started/enable-your-device-for-development\n",
      "  warnings.warn(message)\n"
     ]
    },
    {
     "data": {
      "application/vnd.jupyter.widget-view+json": {
       "model_id": "d1c546874101457ba3b15e213caa380f",
       "version_major": 2,
       "version_minor": 0
      },
      "text/plain": [
       "Downloading:   0%|          | 0.00/1.22G [00:00<?, ?B/s]"
      ]
     },
     "metadata": {},
     "output_type": "display_data"
    },
    {
     "data": {
      "application/vnd.jupyter.widget-view+json": {
       "model_id": "2e15a4e9e8fc45229a748fa3ad2d7390",
       "version_major": 2,
       "version_minor": 0
      },
      "text/plain": [
       "Downloading:   0%|          | 0.00/26.0 [00:01<?, ?B/s]"
      ]
     },
     "metadata": {},
     "output_type": "display_data"
    },
    {
     "data": {
      "application/vnd.jupyter.widget-view+json": {
       "model_id": "d1331229eacf43dda74483c394a08ccd",
       "version_major": 2,
       "version_minor": 0
      },
      "text/plain": [
       "Downloading:   0%|          | 0.00/899k [00:00<?, ?B/s]"
      ]
     },
     "metadata": {},
     "output_type": "display_data"
    },
    {
     "data": {
      "application/vnd.jupyter.widget-view+json": {
       "model_id": "4166bc40c3914b62814f12bad4a9cb7d",
       "version_major": 2,
       "version_minor": 0
      },
      "text/plain": [
       "Downloading:   0%|          | 0.00/456k [00:00<?, ?B/s]"
      ]
     },
     "metadata": {},
     "output_type": "display_data"
    }
   ],
   "source": [
    "#!pip install transformers\n",
    "from transformers import pipeline\n",
    "\n",
    "# Load the pre-trained model for summarization\n",
    "summarizer = pipeline(\"summarization\")\n",
    "\n"
   ]
  },
  {
   "cell_type": "code",
   "execution_count": 18,
   "id": "9aaa476f",
   "metadata": {},
   "outputs": [],
   "source": [
    "# Example text for summarization\n",
    "text = \"\"\"\n",
    "Artificial intelligence (AI) technology is fundamentally shaping how contact centers operate, significantly improving customer experience while delivering cost savings and efficiencies. As evidence of its value grows, AI is increasingly considered a necessity to compete effectively by delivering faster, more accurate customer service.\n",
    "\n",
    "CX professionals understand the importance of AI, yet organizations still struggle to deploy and adopt this technology in truly meaningful ways. 89% of CX professionals believe in the importance of leveraging AI in the contact center, yet only 14% of organizations consider themselves “transformational” in employing AI to do heavy lifting for the business.\n",
    "\n",
    "This report examines the evolving perceptions of AI and its maturity in the CX space. Download the report to explore these key drivers and expectations, as well as four key predictions on how AI will shape the contact center through 2025.\n",
    "\n",
    "\"\"\"\n",
    "\n",
    "# Generate the summary\n",
    "summary = summarizer(text, max_length=150, min_length=30, do_sample=False)\n",
    "\n",
    "# Get the summarized text\n",
    "summarized_text = summary[0]['summary_text']\n"
   ]
  },
  {
   "cell_type": "code",
   "execution_count": 19,
   "id": "0b1000a8",
   "metadata": {},
   "outputs": [
    {
     "name": "stdout",
     "output_type": "stream",
     "text": [
      "Text Summary:\n",
      " Report examines the evolving perceptions of AI and its maturity in the CX space . 89% of CX professionals believe in the importance of leveraging AI in the contact center . 14% of organizations consider themselves “transformational” in employing AI to do heavy lifting for the business .\n"
     ]
    }
   ],
   "source": [
    "# Print the summary\n",
    "print(\"Text Summary:\")\n",
    "print(summarized_text)\n"
   ]
  },
  {
   "cell_type": "code",
   "execution_count": 9,
   "id": "98cc3399",
   "metadata": {},
   "outputs": [],
   "source": [
    "#USING NLTK"
   ]
  },
  {
   "cell_type": "code",
   "execution_count": null,
   "id": "fd4f9774",
   "metadata": {},
   "outputs": [],
   "source": []
  }
 ],
 "metadata": {
  "kernelspec": {
   "display_name": "Python 3 (ipykernel)",
   "language": "python",
   "name": "python3"
  },
  "language_info": {
   "codemirror_mode": {
    "name": "ipython",
    "version": 3
   },
   "file_extension": ".py",
   "mimetype": "text/x-python",
   "name": "python",
   "nbconvert_exporter": "python",
   "pygments_lexer": "ipython3",
   "version": "3.10.9"
  }
 },
 "nbformat": 4,
 "nbformat_minor": 5
}
